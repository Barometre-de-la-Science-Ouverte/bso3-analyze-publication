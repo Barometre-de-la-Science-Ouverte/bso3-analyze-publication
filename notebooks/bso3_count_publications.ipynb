{
 "cells": [
  {
   "cell_type": "code",
   "execution_count": 1,
   "metadata": {},
   "outputs": [],
   "source": [
    "import copy\n",
    "from elasticsearch import Elasticsearch, exceptions\n",
    "import pandas as pd\n",
    "import warnings\n",
    "\n",
    "ES_HOST = \"https://cluster.elasticsearch.dataesr.ovh/\"\n",
    "ES_INDEX = \"bso-publications\"\n",
    "ES_PASSWORD = \"vn84q9Xef9U7pmU\"\n",
    "ES_USER = \"BSO\"\n",
    "\n",
    "es = Elasticsearch(ES_HOST, http_auth=(ES_USER, ES_PASSWORD))\n",
    "warnings.simplefilter('ignore', exceptions.ElasticsearchWarning)"
   ]
  },
  {
   "cell_type": "markdown",
   "metadata": {},
   "source": [
    "### Publications in ES\n",
    "With foreign publications, publications from HAL ..."
   ]
  },
  {
   "cell_type": "code",
   "execution_count": 2,
   "metadata": {},
   "outputs": [
    {
     "name": "stdout",
     "output_type": "stream",
     "text": [
      "3,043,483 publications are in ES\n"
     ]
    }
   ],
   "source": [
    "count_es = es.count(index=ES_INDEX).get(\"count\")\n",
    "print(f\"{format(count_es, ',')} publications are in ES\")"
   ]
  },
  {
   "attachments": {},
   "cell_type": "markdown",
   "metadata": {},
   "source": [
    "### Publications in the BSO\n",
    "Publications from France, with a DOI from crossref and of type \"journal-article\", \"proceedings\", \"book-chapter\", \"book\" or \"preprint\""
   ]
  },
  {
   "cell_type": "code",
   "execution_count": 3,
   "metadata": {},
   "outputs": [],
   "source": [
    "body_bso = {\n",
    "\t\"query\": {\n",
    "\t\t\"bool\": {\n",
    "\t\t\t\"must\": [\n",
    "\t\t\t\t{\n",
    "\t\t\t\t\t\"term\": {\n",
    "\t\t\t\t\t\t\"bso_country.keyword\": \"fr\"\n",
    "\t\t\t\t\t}\n",
    "\t\t\t\t},\n",
    "\t\t\t\t{\n",
    "\t\t\t\t\t\"terms\": {\n",
    "\t\t\t\t\t\t\"id_type.keyword\": [\n",
    "\t\t\t\t\t\t\t\"doi\"\n",
    "\t\t\t\t\t\t]\n",
    "\t\t\t\t\t}\n",
    "\t\t\t\t},\n",
    "\t\t\t\t{\n",
    "\t\t\t\t\t\"terms\": {\n",
    "\t\t\t\t\t\t\"genre.keyword\": [\n",
    "\t\t\t\t\t\t\t\"journal-article\",\n",
    "\t\t\t\t\t\t\t\"proceedings\",\n",
    "\t\t\t\t\t\t\t\"book-chapter\",\n",
    "\t\t\t\t\t\t\t\"book\",\n",
    "\t\t\t\t\t\t\t\"preprint\"\n",
    "\t\t\t\t\t\t]\n",
    "\t\t\t\t\t}\n",
    "\t\t\t\t}\n",
    "\t\t\t]\n",
    "\t\t}\n",
    "\t}\n",
    "}"
   ]
  },
  {
   "cell_type": "code",
   "execution_count": 4,
   "metadata": {},
   "outputs": [
    {
     "name": "stdout",
     "output_type": "stream",
     "text": [
      "1,608,839 publications are in the BSO, so 52.86% of the ES\n"
     ]
    }
   ],
   "source": [
    "count_bso = es.count(index=ES_INDEX, body=body_bso).get(\"count\")\n",
    "count_bso_percent = count_bso / count_es * 100\n",
    "print(f\"{format(count_bso, ',')} publications are in the BSO, so {count_bso_percent:.2f}% of the ES\")"
   ]
  },
  {
   "attachments": {},
   "cell_type": "markdown",
   "metadata": {},
   "source": [
    "### Publications in BSO and downloaded"
   ]
  },
  {
   "cell_type": "code",
   "execution_count": 5,
   "metadata": {},
   "outputs": [
    {
     "name": "stdout",
     "output_type": "stream",
     "text": [
      "958,973 publications in the BSO have been downloaded ie. 59.61%\n"
     ]
    }
   ],
   "source": [
    "body_copy = copy.deepcopy(body_bso)\n",
    "body_copy.get(\"query\").get(\"bool\").get(\"must\").append({ \"term\": { \"bso3_downloaded\": \"1\" } })\n",
    "count_bso_downloaded = es.count(index=ES_INDEX, body=body_copy).get(\"count\")\n",
    "count_bso_downloaded_percent = count_bso_downloaded / count_bso * 100\n",
    "print(f\"{format(count_bso_downloaded, ',')} publications in the BSO have been downloaded ie. {count_bso_downloaded_percent:.2f}%\")"
   ]
  },
  {
   "attachments": {},
   "cell_type": "markdown",
   "metadata": {},
   "source": [
    "### Publications in the BSO and analyzed by GROBID"
   ]
  },
  {
   "cell_type": "code",
   "execution_count": 6,
   "metadata": {},
   "outputs": [
    {
     "name": "stdout",
     "output_type": "stream",
     "text": [
      "778,569 publications in the BSO have been analyzed by GROBID ie. 48.39%\n"
     ]
    }
   ],
   "source": [
    "body_copy = copy.deepcopy(body_bso)\n",
    "body_copy.get(\"query\").get(\"bool\").get(\"must\").append({ \"term\": { \"bso3_analyzed_grobid\": \"1\" } })\n",
    "count_bso_grobid = es.count(index=ES_INDEX, body=body_copy).get(\"count\")\n",
    "count_bso_grobid_percent = count_bso_grobid / count_bso * 100\n",
    "print(f\"{format(count_bso_grobid, ',')} publications in the BSO have been analyzed by GROBID ie. {count_bso_grobid_percent:.2f}%\")"
   ]
  },
  {
   "attachments": {},
   "cell_type": "markdown",
   "metadata": {},
   "source": [
    "### Publications in the BSO and analyzed by Datastet"
   ]
  },
  {
   "cell_type": "code",
   "execution_count": 7,
   "metadata": {},
   "outputs": [
    {
     "name": "stdout",
     "output_type": "stream",
     "text": [
      "655,954 publications in the BSO have been analyzed by DataStet ie. 40.77%\n"
     ]
    }
   ],
   "source": [
    "body_copy = copy.deepcopy(body_bso)\n",
    "body_copy.get(\"query\").get(\"bool\").get(\"must\").append({ \"term\": { \"bso3_analyzed_datastet\": \"1\" } })\n",
    "count_bso_datastet = es.count(index=ES_INDEX, body=body_copy).get(\"count\")\n",
    "count_bso_datastet_percent = count_bso_datastet / count_bso * 100\n",
    "print(f\"{format(count_bso_datastet, ',')} publications in the BSO have been analyzed by DataStet ie. {count_bso_datastet_percent:.2f}%\")"
   ]
  },
  {
   "attachments": {},
   "cell_type": "markdown",
   "metadata": {},
   "source": [
    "### Publications in the BSO and analyzed by Softcite"
   ]
  },
  {
   "cell_type": "code",
   "execution_count": 8,
   "metadata": {},
   "outputs": [
    {
     "name": "stdout",
     "output_type": "stream",
     "text": [
      "777,132 publications in the BSO have been analyzed by Softcite ie. 48.30%\n"
     ]
    }
   ],
   "source": [
    "body_copy = copy.deepcopy(body_bso)\n",
    "body_copy.get(\"query\").get(\"bool\").get(\"must\").append({ \"term\": { \"bso3_analyzed_softcite\": \"1\" } })\n",
    "count_bso_softcite = es.count(index=ES_INDEX, body=body_copy).get(\"count\")\n",
    "count_bso_softcite_percent = count_bso_softcite / count_bso * 100\n",
    "print(f\"{format(count_bso_softcite, ',')} publications in the BSO have been analyzed by Softcite ie. {count_bso_softcite_percent:.2f}%\")"
   ]
  },
  {
   "cell_type": "code",
   "execution_count": 9,
   "metadata": {},
   "outputs": [
    {
     "data": {
      "text/html": [
       "<div>\n",
       "<style scoped>\n",
       "    .dataframe tbody tr th:only-of-type {\n",
       "        vertical-align: middle;\n",
       "    }\n",
       "\n",
       "    .dataframe tbody tr th {\n",
       "        vertical-align: top;\n",
       "    }\n",
       "\n",
       "    .dataframe thead th {\n",
       "        text-align: right;\n",
       "    }\n",
       "</style>\n",
       "<table border=\"1\" class=\"dataframe\">\n",
       "  <thead>\n",
       "    <tr style=\"text-align: right;\">\n",
       "      <th></th>\n",
       "      <th>year</th>\n",
       "      <th>bso</th>\n",
       "      <th>downloaded</th>\n",
       "      <th>grobid</th>\n",
       "      <th>datastet</th>\n",
       "      <th>softcite</th>\n",
       "    </tr>\n",
       "  </thead>\n",
       "  <tbody>\n",
       "    <tr>\n",
       "      <th>0</th>\n",
       "      <td>2013</td>\n",
       "      <td>143327</td>\n",
       "      <td>85920</td>\n",
       "      <td>66526</td>\n",
       "      <td>57553</td>\n",
       "      <td>66386</td>\n",
       "    </tr>\n",
       "    <tr>\n",
       "      <th>1</th>\n",
       "      <td>2014</td>\n",
       "      <td>147068</td>\n",
       "      <td>88216</td>\n",
       "      <td>66990</td>\n",
       "      <td>58501</td>\n",
       "      <td>66840</td>\n",
       "    </tr>\n",
       "    <tr>\n",
       "      <th>2</th>\n",
       "      <td>2015</td>\n",
       "      <td>147129</td>\n",
       "      <td>89674</td>\n",
       "      <td>72617</td>\n",
       "      <td>61568</td>\n",
       "      <td>72513</td>\n",
       "    </tr>\n",
       "    <tr>\n",
       "      <th>3</th>\n",
       "      <td>2016</td>\n",
       "      <td>158009</td>\n",
       "      <td>97708</td>\n",
       "      <td>79558</td>\n",
       "      <td>67147</td>\n",
       "      <td>79401</td>\n",
       "    </tr>\n",
       "    <tr>\n",
       "      <th>4</th>\n",
       "      <td>2017</td>\n",
       "      <td>160673</td>\n",
       "      <td>103054</td>\n",
       "      <td>83172</td>\n",
       "      <td>70872</td>\n",
       "      <td>83078</td>\n",
       "    </tr>\n",
       "    <tr>\n",
       "      <th>5</th>\n",
       "      <td>2018</td>\n",
       "      <td>167089</td>\n",
       "      <td>108948</td>\n",
       "      <td>86822</td>\n",
       "      <td>74674</td>\n",
       "      <td>86634</td>\n",
       "    </tr>\n",
       "    <tr>\n",
       "      <th>6</th>\n",
       "      <td>2019</td>\n",
       "      <td>168910</td>\n",
       "      <td>111618</td>\n",
       "      <td>98477</td>\n",
       "      <td>76969</td>\n",
       "      <td>98243</td>\n",
       "    </tr>\n",
       "    <tr>\n",
       "      <th>7</th>\n",
       "      <td>2020</td>\n",
       "      <td>176265</td>\n",
       "      <td>119667</td>\n",
       "      <td>105496</td>\n",
       "      <td>82609</td>\n",
       "      <td>105300</td>\n",
       "    </tr>\n",
       "    <tr>\n",
       "      <th>8</th>\n",
       "      <td>2021</td>\n",
       "      <td>162763</td>\n",
       "      <td>103323</td>\n",
       "      <td>83705</td>\n",
       "      <td>71105</td>\n",
       "      <td>83559</td>\n",
       "    </tr>\n",
       "    <tr>\n",
       "      <th>9</th>\n",
       "      <td>total</td>\n",
       "      <td>1608839</td>\n",
       "      <td>958973</td>\n",
       "      <td>778569</td>\n",
       "      <td>655954</td>\n",
       "      <td>777132</td>\n",
       "    </tr>\n",
       "  </tbody>\n",
       "</table>\n",
       "</div>"
      ],
      "text/plain": [
       "    year      bso  downloaded  grobid  datastet  softcite\n",
       "0   2013   143327       85920   66526     57553     66386\n",
       "1   2014   147068       88216   66990     58501     66840\n",
       "2   2015   147129       89674   72617     61568     72513\n",
       "3   2016   158009       97708   79558     67147     79401\n",
       "4   2017   160673      103054   83172     70872     83078\n",
       "5   2018   167089      108948   86822     74674     86634\n",
       "6   2019   168910      111618   98477     76969     98243\n",
       "7   2020   176265      119667  105496     82609    105300\n",
       "8   2021   162763      103323   83705     71105     83559\n",
       "9  total  1608839      958973  778569    655954    777132"
      ]
     },
     "execution_count": 9,
     "metadata": {},
     "output_type": "execute_result"
    }
   ],
   "source": [
    "data = []\n",
    "columns = [\"year\", \"bso\", \"downloaded\", \"grobid\", \"datastet\", \"softcite\"]\n",
    "for year in range(2013, 2022):\n",
    "    tmp = [year]\n",
    "    body_bso_by_year = copy.deepcopy(body_bso)\n",
    "    body_bso_by_year.get(\"query\").get(\"bool\").get(\"must\").append({ \"term\": { \"year\": year } })\n",
    "    count_bso_by_year = es.count(index=ES_INDEX, body=body_bso_by_year).get(\"count\")\n",
    "    # Downloaded\n",
    "    body_bso_by_year_copy = copy.deepcopy(body_bso_by_year)\n",
    "    body_bso_by_year_copy.get(\"query\").get(\"bool\").get(\"must\").append({ \"term\": { \"bso3_downloaded\": \"1\" } })\n",
    "    count_bso_by_year_downloaded = es.count(index=ES_INDEX, body=body_bso_by_year_copy).get(\"count\")\n",
    "    # GROBID\n",
    "    body_bso_by_year_copy = copy.deepcopy(body_bso_by_year)\n",
    "    body_bso_by_year_copy.get(\"query\").get(\"bool\").get(\"must\").append({ \"term\": { \"bso3_analyzed_grobid\": \"1\" } })\n",
    "    count_bso_by_year_grobid = es.count(index=ES_INDEX, body=body_bso_by_year_copy).get(\"count\")\n",
    "    # DataStet\n",
    "    body_bso_by_year_copy = copy.deepcopy(body_bso_by_year)\n",
    "    body_bso_by_year_copy.get(\"query\").get(\"bool\").get(\"must\").append({ \"term\": { \"bso3_analyzed_datastet\": \"1\" } })\n",
    "    count_bso_by_year_datastet = es.count(index=ES_INDEX, body=body_bso_by_year_copy).get(\"count\")\n",
    "    # Softcite\n",
    "    body_bso_by_year_copy = copy.deepcopy(body_bso_by_year)\n",
    "    body_bso_by_year_copy.get(\"query\").get(\"bool\").get(\"must\").append({ \"term\": { \"bso3_analyzed_softcite\": \"1\" } })\n",
    "    count_bso_by_year_softcite = es.count(index=ES_INDEX, body=body_bso_by_year_copy).get(\"count\")\n",
    "    data.append([year, count_bso_by_year, count_bso_by_year_downloaded, count_bso_by_year_grobid, count_bso_by_year_datastet, count_bso_by_year_softcite])\n",
    "data.append([\"total\", count_bso, count_bso_downloaded, count_bso_grobid, count_bso_datastet, count_bso_softcite])\n",
    "df = pd.DataFrame(data, columns=columns)\n",
    "df"
   ]
  },
  {
   "cell_type": "code",
   "execution_count": 10,
   "metadata": {},
   "outputs": [
    {
     "data": {
      "text/html": [
       "<div>\n",
       "<style scoped>\n",
       "    .dataframe tbody tr th:only-of-type {\n",
       "        vertical-align: middle;\n",
       "    }\n",
       "\n",
       "    .dataframe tbody tr th {\n",
       "        vertical-align: top;\n",
       "    }\n",
       "\n",
       "    .dataframe thead th {\n",
       "        text-align: right;\n",
       "    }\n",
       "</style>\n",
       "<table border=\"1\" class=\"dataframe\">\n",
       "  <thead>\n",
       "    <tr style=\"text-align: right;\">\n",
       "      <th></th>\n",
       "      <th>year</th>\n",
       "      <th>bso</th>\n",
       "      <th>downloaded</th>\n",
       "      <th>grobid</th>\n",
       "      <th>datastet</th>\n",
       "      <th>softcite</th>\n",
       "    </tr>\n",
       "  </thead>\n",
       "  <tbody>\n",
       "    <tr>\n",
       "      <th>0</th>\n",
       "      <td>2013</td>\n",
       "      <td>143327</td>\n",
       "      <td>59.946835</td>\n",
       "      <td>46.415539</td>\n",
       "      <td>40.155030</td>\n",
       "      <td>46.317861</td>\n",
       "    </tr>\n",
       "    <tr>\n",
       "      <th>1</th>\n",
       "      <td>2014</td>\n",
       "      <td>147068</td>\n",
       "      <td>59.983137</td>\n",
       "      <td>45.550358</td>\n",
       "      <td>39.778198</td>\n",
       "      <td>45.448364</td>\n",
       "    </tr>\n",
       "    <tr>\n",
       "      <th>2</th>\n",
       "      <td>2015</td>\n",
       "      <td>147129</td>\n",
       "      <td>60.949235</td>\n",
       "      <td>49.356007</td>\n",
       "      <td>41.846271</td>\n",
       "      <td>49.285321</td>\n",
       "    </tr>\n",
       "    <tr>\n",
       "      <th>3</th>\n",
       "      <td>2016</td>\n",
       "      <td>158009</td>\n",
       "      <td>61.836984</td>\n",
       "      <td>50.350297</td>\n",
       "      <td>42.495681</td>\n",
       "      <td>50.250935</td>\n",
       "    </tr>\n",
       "    <tr>\n",
       "      <th>4</th>\n",
       "      <td>2017</td>\n",
       "      <td>160673</td>\n",
       "      <td>64.138965</td>\n",
       "      <td>51.764764</td>\n",
       "      <td>44.109465</td>\n",
       "      <td>51.706261</td>\n",
       "    </tr>\n",
       "    <tr>\n",
       "      <th>5</th>\n",
       "      <td>2018</td>\n",
       "      <td>167089</td>\n",
       "      <td>65.203574</td>\n",
       "      <td>51.961529</td>\n",
       "      <td>44.691153</td>\n",
       "      <td>51.849015</td>\n",
       "    </tr>\n",
       "    <tr>\n",
       "      <th>6</th>\n",
       "      <td>2019</td>\n",
       "      <td>168910</td>\n",
       "      <td>66.081345</td>\n",
       "      <td>58.301462</td>\n",
       "      <td>45.568054</td>\n",
       "      <td>58.162927</td>\n",
       "    </tr>\n",
       "    <tr>\n",
       "      <th>7</th>\n",
       "      <td>2020</td>\n",
       "      <td>176265</td>\n",
       "      <td>67.890392</td>\n",
       "      <td>59.850793</td>\n",
       "      <td>46.866366</td>\n",
       "      <td>59.739597</td>\n",
       "    </tr>\n",
       "    <tr>\n",
       "      <th>8</th>\n",
       "      <td>2021</td>\n",
       "      <td>162763</td>\n",
       "      <td>63.480644</td>\n",
       "      <td>51.427536</td>\n",
       "      <td>43.686219</td>\n",
       "      <td>51.337835</td>\n",
       "    </tr>\n",
       "    <tr>\n",
       "      <th>9</th>\n",
       "      <td>total</td>\n",
       "      <td>1608839</td>\n",
       "      <td>59.606524</td>\n",
       "      <td>48.393220</td>\n",
       "      <td>40.771886</td>\n",
       "      <td>48.303901</td>\n",
       "    </tr>\n",
       "  </tbody>\n",
       "</table>\n",
       "</div>"
      ],
      "text/plain": [
       "    year      bso  downloaded     grobid   datastet   softcite\n",
       "0   2013   143327   59.946835  46.415539  40.155030  46.317861\n",
       "1   2014   147068   59.983137  45.550358  39.778198  45.448364\n",
       "2   2015   147129   60.949235  49.356007  41.846271  49.285321\n",
       "3   2016   158009   61.836984  50.350297  42.495681  50.250935\n",
       "4   2017   160673   64.138965  51.764764  44.109465  51.706261\n",
       "5   2018   167089   65.203574  51.961529  44.691153  51.849015\n",
       "6   2019   168910   66.081345  58.301462  45.568054  58.162927\n",
       "7   2020   176265   67.890392  59.850793  46.866366  59.739597\n",
       "8   2021   162763   63.480644  51.427536  43.686219  51.337835\n",
       "9  total  1608839   59.606524  48.393220  40.771886  48.303901"
      ]
     },
     "execution_count": 10,
     "metadata": {},
     "output_type": "execute_result"
    }
   ],
   "source": [
    "df_percent = df.copy()\n",
    "for column in [\"downloaded\", \"grobid\", \"datastet\", \"softcite\"]:\n",
    "    df_percent[column] = df_percent[column] / df_percent[\"bso\"] * 100\n",
    "df_percent"
   ]
  }
 ],
 "metadata": {
  "kernelspec": {
   "display_name": "Python 3 (ipykernel)",
   "language": "python",
   "name": "python3"
  },
  "language_info": {
   "codemirror_mode": {
    "name": "ipython",
    "version": 3
   },
   "file_extension": ".py",
   "mimetype": "text/x-python",
   "name": "python",
   "nbconvert_exporter": "python",
   "pygments_lexer": "ipython3",
   "version": "3.10.6"
  }
 },
 "nbformat": 4,
 "nbformat_minor": 2
}
