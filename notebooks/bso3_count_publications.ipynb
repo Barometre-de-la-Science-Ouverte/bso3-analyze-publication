{
 "cells": [
  {
   "cell_type": "code",
   "execution_count": 1,
   "metadata": {},
   "outputs": [],
   "source": [
    "import copy\n",
    "from elasticsearch import Elasticsearch, exceptions\n",
    "import warnings\n",
    "\n",
    "ES_HOST = \"https://cluster.elasticsearch.dataesr.ovh/\"\n",
    "ES_INDEX = \"bso-publications-20230403\"\n",
    "ES_PASSWORD = \"vn84q9Xef9U7pmU\"\n",
    "ES_USER = \"BSO\"\n",
    "\n",
    "es = Elasticsearch(ES_HOST, http_auth=(ES_USER, ES_PASSWORD))\n",
    "warnings.simplefilter('ignore', exceptions.ElasticsearchWarning)"
   ]
  },
  {
   "cell_type": "markdown",
   "metadata": {},
   "source": [
    "### Publications in ES\n",
    "With foreign publications, publications from HAL ..."
   ]
  },
  {
   "cell_type": "code",
   "execution_count": 2,
   "metadata": {},
   "outputs": [
    {
     "name": "stdout",
     "output_type": "stream",
     "text": [
      "2,961,498 publications are in ES\n"
     ]
    }
   ],
   "source": [
    "count_es = es.count(index=ES_INDEX).get(\"count\")\n",
    "print(f\"{format(count_es, ',')} publications are in ES\")"
   ]
  },
  {
   "attachments": {},
   "cell_type": "markdown",
   "metadata": {},
   "source": [
    "### Publications in the BSO\n",
    "Publications from France, with a DOI from crossref and of type \"journal-article\", \"proceedings\", \"book-chapter\", \"book\" or \"preprint\""
   ]
  },
  {
   "cell_type": "code",
   "execution_count": 3,
   "metadata": {},
   "outputs": [],
   "source": [
    "body_bso = {\n",
    "\t\"query\": {\n",
    "\t\t\"bool\": {\n",
    "\t\t\t\"must\": [\n",
    "\t\t\t\t{\n",
    "\t\t\t\t\t\"term\": {\n",
    "\t\t\t\t\t\t\"bso_country.keyword\": \"fr\"\n",
    "\t\t\t\t\t}\n",
    "\t\t\t\t},\n",
    "\t\t\t\t{\n",
    "\t\t\t\t\t\"terms\": {\n",
    "\t\t\t\t\t\t\"id_type.keyword\": [\n",
    "\t\t\t\t\t\t\t\"doi\"\n",
    "\t\t\t\t\t\t]\n",
    "\t\t\t\t\t}\n",
    "\t\t\t\t},\n",
    "\t\t\t\t{\n",
    "\t\t\t\t\t\"terms\": {\n",
    "\t\t\t\t\t\t\"genre.keyword\": [\n",
    "\t\t\t\t\t\t\t\"journal-article\",\n",
    "\t\t\t\t\t\t\t\"proceedings\",\n",
    "\t\t\t\t\t\t\t\"book-chapter\",\n",
    "\t\t\t\t\t\t\t\"book\",\n",
    "\t\t\t\t\t\t\t\"preprint\"\n",
    "\t\t\t\t\t\t]\n",
    "\t\t\t\t\t}\n",
    "\t\t\t\t}\n",
    "\t\t\t]\n",
    "\t\t}\n",
    "\t}\n",
    "}"
   ]
  },
  {
   "cell_type": "code",
   "execution_count": 4,
   "metadata": {},
   "outputs": [
    {
     "name": "stdout",
     "output_type": "stream",
     "text": [
      "1,593,783 publications are in the BSO, so 53.82% of the ES\n"
     ]
    }
   ],
   "source": [
    "count_bso = es.count(index=ES_INDEX, body=body_bso).get(\"count\")\n",
    "count_bso_percent = count_bso / count_es * 100\n",
    "print(f\"{format(count_bso, ',')} publications are in the BSO, so {count_bso_percent:.2f}% of the ES\")"
   ]
  },
  {
   "attachments": {},
   "cell_type": "markdown",
   "metadata": {},
   "source": [
    "### Publications in BSO and downloaded"
   ]
  },
  {
   "cell_type": "code",
   "execution_count": 5,
   "metadata": {},
   "outputs": [
    {
     "name": "stdout",
     "output_type": "stream",
     "text": [
      "959,336 publications in the BSO have been downloaded ie. 60.19%\n"
     ]
    }
   ],
   "source": [
    "body_copy = copy.deepcopy(body_bso)\n",
    "body_copy.get(\"query\").get(\"bool\").get(\"must\").append({ \"term\": { \"bso3_downloaded\": \"1\" } })\n",
    "count_bso_downloaded = es.count(index=ES_INDEX, body=body_copy).get(\"count\")\n",
    "count_bso_downloaded_percent = count_bso_downloaded / count_bso * 100\n",
    "print(f\"{format(count_bso_downloaded, ',')} publications in the BSO have been downloaded ie. {count_bso_downloaded_percent:.2f}%\")"
   ]
  },
  {
   "attachments": {},
   "cell_type": "markdown",
   "metadata": {},
   "source": [
    "### Publications in the BSO and analyzed by Datastet"
   ]
  },
  {
   "cell_type": "code",
   "execution_count": 6,
   "metadata": {},
   "outputs": [
    {
     "name": "stdout",
     "output_type": "stream",
     "text": [
      "656,209 publications in the BSO have been analyzed by DataStet ie. 41.17%\n"
     ]
    }
   ],
   "source": [
    "body_copy = copy.deepcopy(body_bso)\n",
    "body_copy.get(\"query\").get(\"bool\").get(\"must\").append({ \"term\": { \"bso3_analyzed_datastet\": \"1\" } })\n",
    "count_bso_datastet = es.count(index=ES_INDEX, body=body_copy).get(\"count\")\n",
    "count_bso_datastet_percent = count_bso_datastet / count_bso * 100\n",
    "print(f\"{format(count_bso_datastet, ',')} publications in the BSO have been analyzed by DataStet ie. {count_bso_datastet_percent:.2f}%\")"
   ]
  },
  {
   "attachments": {},
   "cell_type": "markdown",
   "metadata": {},
   "source": [
    "### Publications in the BSO and analyzed by Softcite"
   ]
  },
  {
   "cell_type": "code",
   "execution_count": 7,
   "metadata": {},
   "outputs": [
    {
     "name": "stdout",
     "output_type": "stream",
     "text": [
      "777,414 publications in the BSO have been analyzed by Softcite ie. 48.78%\n"
     ]
    }
   ],
   "source": [
    "body_copy = copy.deepcopy(body_bso)\n",
    "body_copy.get(\"query\").get(\"bool\").get(\"must\").append({ \"term\": { \"bso3_analyzed_softcite\": \"1\" } })\n",
    "count_bso_softcite = es.count(index=ES_INDEX, body=body_copy).get(\"count\")\n",
    "count_bso_softcite_percent = count_bso_softcite / count_bso * 100\n",
    "print(f\"{format(count_bso_softcite, ',')} publications in the BSO have been analyzed by Softcite ie. {count_bso_softcite_percent:.2f}%\")"
   ]
  }
 ],
 "metadata": {
  "kernelspec": {
   "display_name": "Python 3 (ipykernel)",
   "language": "python",
   "name": "python3"
  },
  "language_info": {
   "codemirror_mode": {
    "name": "ipython",
    "version": 3
   },
   "file_extension": ".py",
   "mimetype": "text/x-python",
   "name": "python",
   "nbconvert_exporter": "python",
   "pygments_lexer": "ipython3",
   "version": "3.10.6"
  }
 },
 "nbformat": 4,
 "nbformat_minor": 2
}
