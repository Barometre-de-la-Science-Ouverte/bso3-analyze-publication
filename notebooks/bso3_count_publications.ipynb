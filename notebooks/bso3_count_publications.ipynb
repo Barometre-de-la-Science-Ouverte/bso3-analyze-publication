{
 "cells": [
  {
   "cell_type": "code",
   "execution_count": 12,
   "metadata": {},
   "outputs": [],
   "source": [
    "import copy\n",
    "from elasticsearch import Elasticsearch, exceptions\n",
    "import pandas as pd\n",
    "import warnings\n",
    "\n",
    "ES_HOST = \"https://cluster.elasticsearch.dataesr.ovh/\"\n",
    "ES_INDEX = \"bso-publications-20230403\"\n",
    "ES_PASSWORD = \"vn84q9Xef9U7pmU\"\n",
    "ES_USER = \"BSO\"\n",
    "\n",
    "es = Elasticsearch(ES_HOST, http_auth=(ES_USER, ES_PASSWORD))\n",
    "warnings.simplefilter('ignore', exceptions.ElasticsearchWarning)"
   ]
  },
  {
   "cell_type": "markdown",
   "metadata": {},
   "source": [
    "### Publications in ES\n",
    "With foreign publications, publications from HAL ..."
   ]
  },
  {
   "cell_type": "code",
   "execution_count": 2,
   "metadata": {},
   "outputs": [
    {
     "name": "stdout",
     "output_type": "stream",
     "text": [
      "2,961,498 publications are in ES\n"
     ]
    }
   ],
   "source": [
    "count_es = es.count(index=ES_INDEX).get(\"count\")\n",
    "print(f\"{format(count_es, ',')} publications are in ES\")"
   ]
  },
  {
   "attachments": {},
   "cell_type": "markdown",
   "metadata": {},
   "source": [
    "### Publications in the BSO\n",
    "Publications from France, with a DOI from crossref and of type \"journal-article\", \"proceedings\", \"book-chapter\", \"book\" or \"preprint\""
   ]
  },
  {
   "cell_type": "code",
   "execution_count": 3,
   "metadata": {},
   "outputs": [],
   "source": [
    "body_bso = {\n",
    "\t\"query\": {\n",
    "\t\t\"bool\": {\n",
    "\t\t\t\"must\": [\n",
    "\t\t\t\t{\n",
    "\t\t\t\t\t\"term\": {\n",
    "\t\t\t\t\t\t\"bso_country.keyword\": \"fr\"\n",
    "\t\t\t\t\t}\n",
    "\t\t\t\t},\n",
    "\t\t\t\t{\n",
    "\t\t\t\t\t\"terms\": {\n",
    "\t\t\t\t\t\t\"id_type.keyword\": [\n",
    "\t\t\t\t\t\t\t\"doi\"\n",
    "\t\t\t\t\t\t]\n",
    "\t\t\t\t\t}\n",
    "\t\t\t\t},\n",
    "\t\t\t\t{\n",
    "\t\t\t\t\t\"terms\": {\n",
    "\t\t\t\t\t\t\"genre.keyword\": [\n",
    "\t\t\t\t\t\t\t\"journal-article\",\n",
    "\t\t\t\t\t\t\t\"proceedings\",\n",
    "\t\t\t\t\t\t\t\"book-chapter\",\n",
    "\t\t\t\t\t\t\t\"book\",\n",
    "\t\t\t\t\t\t\t\"preprint\"\n",
    "\t\t\t\t\t\t]\n",
    "\t\t\t\t\t}\n",
    "\t\t\t\t}\n",
    "\t\t\t]\n",
    "\t\t}\n",
    "\t}\n",
    "}"
   ]
  },
  {
   "cell_type": "code",
   "execution_count": 4,
   "metadata": {},
   "outputs": [
    {
     "name": "stdout",
     "output_type": "stream",
     "text": [
      "1,593,783 publications are in the BSO, so 53.82% of the ES\n"
     ]
    }
   ],
   "source": [
    "count_bso = es.count(index=ES_INDEX, body=body_bso).get(\"count\")\n",
    "count_bso_percent = count_bso / count_es * 100\n",
    "print(f\"{format(count_bso, ',')} publications are in the BSO, so {count_bso_percent:.2f}% of the ES\")"
   ]
  },
  {
   "attachments": {},
   "cell_type": "markdown",
   "metadata": {},
   "source": [
    "### Publications in BSO and downloaded"
   ]
  },
  {
   "cell_type": "code",
   "execution_count": 5,
   "metadata": {},
   "outputs": [
    {
     "name": "stdout",
     "output_type": "stream",
     "text": [
      "959,336 publications in the BSO have been downloaded ie. 60.19%\n"
     ]
    }
   ],
   "source": [
    "body_copy = copy.deepcopy(body_bso)\n",
    "body_copy.get(\"query\").get(\"bool\").get(\"must\").append({ \"term\": { \"bso3_downloaded\": \"1\" } })\n",
    "count_bso_downloaded = es.count(index=ES_INDEX, body=body_copy).get(\"count\")\n",
    "count_bso_downloaded_percent = count_bso_downloaded / count_bso * 100\n",
    "print(f\"{format(count_bso_downloaded, ',')} publications in the BSO have been downloaded ie. {count_bso_downloaded_percent:.2f}%\")"
   ]
  },
  {
   "attachments": {},
   "cell_type": "markdown",
   "metadata": {},
   "source": [
    "### Publications in the BSO and analyzed by GROBID"
   ]
  },
  {
   "cell_type": "code",
   "execution_count": 8,
   "metadata": {},
   "outputs": [
    {
     "name": "stdout",
     "output_type": "stream",
     "text": [
      "778,853 publications in the BSO have been analyzed by GROBID ie. 48.87%\n"
     ]
    }
   ],
   "source": [
    "body_copy = copy.deepcopy(body_bso)\n",
    "body_copy.get(\"query\").get(\"bool\").get(\"must\").append({ \"term\": { \"bso3_analyzed_grobid\": \"1\" } })\n",
    "count_bso_grobid = es.count(index=ES_INDEX, body=body_copy).get(\"count\")\n",
    "count_bso_grobid_percent = count_bso_grobid / count_bso * 100\n",
    "print(f\"{format(count_bso_grobid, ',')} publications in the BSO have been analyzed by GROBID ie. {count_bso_grobid_percent:.2f}%\")"
   ]
  },
  {
   "attachments": {},
   "cell_type": "markdown",
   "metadata": {},
   "source": [
    "### Publications in the BSO and analyzed by Datastet"
   ]
  },
  {
   "cell_type": "code",
   "execution_count": 6,
   "metadata": {},
   "outputs": [
    {
     "name": "stdout",
     "output_type": "stream",
     "text": [
      "656,209 publications in the BSO have been analyzed by DataStet ie. 41.17%\n"
     ]
    }
   ],
   "source": [
    "body_copy = copy.deepcopy(body_bso)\n",
    "body_copy.get(\"query\").get(\"bool\").get(\"must\").append({ \"term\": { \"bso3_analyzed_datastet\": \"1\" } })\n",
    "count_bso_datastet = es.count(index=ES_INDEX, body=body_copy).get(\"count\")\n",
    "count_bso_datastet_percent = count_bso_datastet / count_bso * 100\n",
    "print(f\"{format(count_bso_datastet, ',')} publications in the BSO have been analyzed by DataStet ie. {count_bso_datastet_percent:.2f}%\")"
   ]
  },
  {
   "attachments": {},
   "cell_type": "markdown",
   "metadata": {},
   "source": [
    "### Publications in the BSO and analyzed by Softcite"
   ]
  },
  {
   "cell_type": "code",
   "execution_count": 7,
   "metadata": {},
   "outputs": [
    {
     "name": "stdout",
     "output_type": "stream",
     "text": [
      "777,414 publications in the BSO have been analyzed by Softcite ie. 48.78%\n"
     ]
    }
   ],
   "source": [
    "body_copy = copy.deepcopy(body_bso)\n",
    "body_copy.get(\"query\").get(\"bool\").get(\"must\").append({ \"term\": { \"bso3_analyzed_softcite\": \"1\" } })\n",
    "count_bso_softcite = es.count(index=ES_INDEX, body=body_copy).get(\"count\")\n",
    "count_bso_softcite_percent = count_bso_softcite / count_bso * 100\n",
    "print(f\"{format(count_bso_softcite, ',')} publications in the BSO have been analyzed by Softcite ie. {count_bso_softcite_percent:.2f}%\")"
   ]
  },
  {
   "cell_type": "code",
   "execution_count": 65,
   "metadata": {},
   "outputs": [
    {
     "data": {
      "text/html": [
       "<div>\n",
       "<style scoped>\n",
       "    .dataframe tbody tr th:only-of-type {\n",
       "        vertical-align: middle;\n",
       "    }\n",
       "\n",
       "    .dataframe tbody tr th {\n",
       "        vertical-align: top;\n",
       "    }\n",
       "\n",
       "    .dataframe thead th {\n",
       "        text-align: right;\n",
       "    }\n",
       "</style>\n",
       "<table border=\"1\" class=\"dataframe\">\n",
       "  <thead>\n",
       "    <tr style=\"text-align: right;\">\n",
       "      <th></th>\n",
       "      <th>year</th>\n",
       "      <th>bso</th>\n",
       "      <th>downloaded</th>\n",
       "      <th>grobid</th>\n",
       "      <th>datastet</th>\n",
       "      <th>softcite</th>\n",
       "    </tr>\n",
       "  </thead>\n",
       "  <tbody>\n",
       "    <tr>\n",
       "      <th>0</th>\n",
       "      <td>2013</td>\n",
       "      <td>143095</td>\n",
       "      <td>85914</td>\n",
       "      <td>66520</td>\n",
       "      <td>57546</td>\n",
       "      <td>66380</td>\n",
       "    </tr>\n",
       "    <tr>\n",
       "      <th>1</th>\n",
       "      <td>2014</td>\n",
       "      <td>146834</td>\n",
       "      <td>88208</td>\n",
       "      <td>66985</td>\n",
       "      <td>58492</td>\n",
       "      <td>66835</td>\n",
       "    </tr>\n",
       "    <tr>\n",
       "      <th>2</th>\n",
       "      <td>2015</td>\n",
       "      <td>146874</td>\n",
       "      <td>89668</td>\n",
       "      <td>72615</td>\n",
       "      <td>61561</td>\n",
       "      <td>72511</td>\n",
       "    </tr>\n",
       "    <tr>\n",
       "      <th>3</th>\n",
       "      <td>2016</td>\n",
       "      <td>157978</td>\n",
       "      <td>97913</td>\n",
       "      <td>79728</td>\n",
       "      <td>67285</td>\n",
       "      <td>79570</td>\n",
       "    </tr>\n",
       "    <tr>\n",
       "      <th>4</th>\n",
       "      <td>2017</td>\n",
       "      <td>160574</td>\n",
       "      <td>103248</td>\n",
       "      <td>83321</td>\n",
       "      <td>70993</td>\n",
       "      <td>83228</td>\n",
       "    </tr>\n",
       "    <tr>\n",
       "      <th>5</th>\n",
       "      <td>2018</td>\n",
       "      <td>166721</td>\n",
       "      <td>109059</td>\n",
       "      <td>86913</td>\n",
       "      <td>74748</td>\n",
       "      <td>86725</td>\n",
       "    </tr>\n",
       "    <tr>\n",
       "      <th>6</th>\n",
       "      <td>2019</td>\n",
       "      <td>168433</td>\n",
       "      <td>111703</td>\n",
       "      <td>98550</td>\n",
       "      <td>77043</td>\n",
       "      <td>98315</td>\n",
       "    </tr>\n",
       "    <tr>\n",
       "      <th>7</th>\n",
       "      <td>2020</td>\n",
       "      <td>175445</td>\n",
       "      <td>119644</td>\n",
       "      <td>105467</td>\n",
       "      <td>82610</td>\n",
       "      <td>105270</td>\n",
       "    </tr>\n",
       "    <tr>\n",
       "      <th>8</th>\n",
       "      <td>2021</td>\n",
       "      <td>160261</td>\n",
       "      <td>103212</td>\n",
       "      <td>83602</td>\n",
       "      <td>71029</td>\n",
       "      <td>83456</td>\n",
       "    </tr>\n",
       "    <tr>\n",
       "      <th>9</th>\n",
       "      <td>2022</td>\n",
       "      <td>161378</td>\n",
       "      <td>50409</td>\n",
       "      <td>34907</td>\n",
       "      <td>34664</td>\n",
       "      <td>34879</td>\n",
       "    </tr>\n",
       "    <tr>\n",
       "      <th>10</th>\n",
       "      <td>total</td>\n",
       "      <td>1593783</td>\n",
       "      <td>959336</td>\n",
       "      <td>778853</td>\n",
       "      <td>656209</td>\n",
       "      <td>777414</td>\n",
       "    </tr>\n",
       "  </tbody>\n",
       "</table>\n",
       "</div>"
      ],
      "text/plain": [
       "     year      bso  downloaded  grobid  datastet  softcite\n",
       "0    2013   143095       85914   66520     57546     66380\n",
       "1    2014   146834       88208   66985     58492     66835\n",
       "2    2015   146874       89668   72615     61561     72511\n",
       "3    2016   157978       97913   79728     67285     79570\n",
       "4    2017   160574      103248   83321     70993     83228\n",
       "5    2018   166721      109059   86913     74748     86725\n",
       "6    2019   168433      111703   98550     77043     98315\n",
       "7    2020   175445      119644  105467     82610    105270\n",
       "8    2021   160261      103212   83602     71029     83456\n",
       "9    2022   161378       50409   34907     34664     34879\n",
       "10  total  1593783      959336  778853    656209    777414"
      ]
     },
     "execution_count": 65,
     "metadata": {},
     "output_type": "execute_result"
    }
   ],
   "source": [
    "data = []\n",
    "columns = [\"year\", \"bso\", \"downloaded\", \"grobid\", \"datastet\", \"softcite\"]\n",
    "for year in range(2013, 2023):\n",
    "    tmp = [year]\n",
    "    body_bso_by_year = copy.deepcopy(body_bso)\n",
    "    body_bso_by_year.get(\"query\").get(\"bool\").get(\"must\").append({ \"term\": { \"year\": year } })\n",
    "    count_bso_by_year = es.count(index=ES_INDEX, body=body_bso_by_year).get(\"count\")\n",
    "    # Downloaded\n",
    "    body_bso_by_year_copy = copy.deepcopy(body_bso_by_year)\n",
    "    body_bso_by_year_copy.get(\"query\").get(\"bool\").get(\"must\").append({ \"term\": { \"bso3_downloaded\": \"1\" } })\n",
    "    count_bso_by_year_downloaded = es.count(index=ES_INDEX, body=body_bso_by_year_copy).get(\"count\")\n",
    "    # GROBID\n",
    "    body_bso_by_year_copy = copy.deepcopy(body_bso_by_year)\n",
    "    body_bso_by_year_copy.get(\"query\").get(\"bool\").get(\"must\").append({ \"term\": { \"bso3_analyzed_grobid\": \"1\" } })\n",
    "    count_bso_by_year_grobid = es.count(index=ES_INDEX, body=body_bso_by_year_copy).get(\"count\")\n",
    "    # DataStet\n",
    "    body_bso_by_year_copy = copy.deepcopy(body_bso_by_year)\n",
    "    body_bso_by_year_copy.get(\"query\").get(\"bool\").get(\"must\").append({ \"term\": { \"bso3_analyzed_datastet\": \"1\" } })\n",
    "    count_bso_by_year_datastet = es.count(index=ES_INDEX, body=body_bso_by_year_copy).get(\"count\")\n",
    "    # Softcite\n",
    "    body_bso_by_year_copy = copy.deepcopy(body_bso_by_year)\n",
    "    body_bso_by_year_copy.get(\"query\").get(\"bool\").get(\"must\").append({ \"term\": { \"bso3_analyzed_softcite\": \"1\" } })\n",
    "    count_bso_by_year_softcite = es.count(index=ES_INDEX, body=body_bso_by_year_copy).get(\"count\")\n",
    "    data.append([year, count_bso_by_year, count_bso_by_year_downloaded, count_bso_by_year_grobid, count_bso_by_year_datastet, count_bso_by_year_softcite])\n",
    "data.append([\"total\", count_bso, count_bso_downloaded, count_bso_grobid, count_bso_datastet, count_bso_softcite])\n",
    "df = pd.DataFrame(data, columns=columns)\n",
    "df"
   ]
  },
  {
   "cell_type": "code",
   "execution_count": 67,
   "metadata": {},
   "outputs": [
    {
     "data": {
      "text/html": [
       "<div>\n",
       "<style scoped>\n",
       "    .dataframe tbody tr th:only-of-type {\n",
       "        vertical-align: middle;\n",
       "    }\n",
       "\n",
       "    .dataframe tbody tr th {\n",
       "        vertical-align: top;\n",
       "    }\n",
       "\n",
       "    .dataframe thead th {\n",
       "        text-align: right;\n",
       "    }\n",
       "</style>\n",
       "<table border=\"1\" class=\"dataframe\">\n",
       "  <thead>\n",
       "    <tr style=\"text-align: right;\">\n",
       "      <th></th>\n",
       "      <th>year</th>\n",
       "      <th>bso</th>\n",
       "      <th>downloaded</th>\n",
       "      <th>grobid</th>\n",
       "      <th>datastet</th>\n",
       "      <th>softcite</th>\n",
       "    </tr>\n",
       "  </thead>\n",
       "  <tbody>\n",
       "    <tr>\n",
       "      <th>0</th>\n",
       "      <td>2013</td>\n",
       "      <td>143095</td>\n",
       "      <td>60.039834</td>\n",
       "      <td>46.486600</td>\n",
       "      <td>40.215242</td>\n",
       "      <td>46.388763</td>\n",
       "    </tr>\n",
       "    <tr>\n",
       "      <th>1</th>\n",
       "      <td>2014</td>\n",
       "      <td>146834</td>\n",
       "      <td>60.073280</td>\n",
       "      <td>45.619543</td>\n",
       "      <td>39.835460</td>\n",
       "      <td>45.517387</td>\n",
       "    </tr>\n",
       "    <tr>\n",
       "      <th>2</th>\n",
       "      <td>2015</td>\n",
       "      <td>146874</td>\n",
       "      <td>61.050969</td>\n",
       "      <td>49.440337</td>\n",
       "      <td>41.914158</td>\n",
       "      <td>49.369528</td>\n",
       "    </tr>\n",
       "    <tr>\n",
       "      <th>3</th>\n",
       "      <td>2016</td>\n",
       "      <td>157978</td>\n",
       "      <td>61.978883</td>\n",
       "      <td>50.467787</td>\n",
       "      <td>42.591373</td>\n",
       "      <td>50.367773</td>\n",
       "    </tr>\n",
       "    <tr>\n",
       "      <th>4</th>\n",
       "      <td>2017</td>\n",
       "      <td>160574</td>\n",
       "      <td>64.299326</td>\n",
       "      <td>51.889472</td>\n",
       "      <td>44.212014</td>\n",
       "      <td>51.831554</td>\n",
       "    </tr>\n",
       "    <tr>\n",
       "      <th>5</th>\n",
       "      <td>2018</td>\n",
       "      <td>166721</td>\n",
       "      <td>65.414075</td>\n",
       "      <td>52.130805</td>\n",
       "      <td>44.834184</td>\n",
       "      <td>52.018042</td>\n",
       "    </tr>\n",
       "    <tr>\n",
       "      <th>6</th>\n",
       "      <td>2019</td>\n",
       "      <td>168433</td>\n",
       "      <td>66.318952</td>\n",
       "      <td>58.509912</td>\n",
       "      <td>45.741036</td>\n",
       "      <td>58.370391</td>\n",
       "    </tr>\n",
       "    <tr>\n",
       "      <th>7</th>\n",
       "      <td>2020</td>\n",
       "      <td>175445</td>\n",
       "      <td>68.194591</td>\n",
       "      <td>60.113996</td>\n",
       "      <td>47.085981</td>\n",
       "      <td>60.001710</td>\n",
       "    </tr>\n",
       "    <tr>\n",
       "      <th>8</th>\n",
       "      <td>2021</td>\n",
       "      <td>160261</td>\n",
       "      <td>64.402444</td>\n",
       "      <td>52.166154</td>\n",
       "      <td>44.320827</td>\n",
       "      <td>52.075053</td>\n",
       "    </tr>\n",
       "    <tr>\n",
       "      <th>9</th>\n",
       "      <td>2022</td>\n",
       "      <td>161378</td>\n",
       "      <td>31.236600</td>\n",
       "      <td>21.630582</td>\n",
       "      <td>21.480003</td>\n",
       "      <td>21.613231</td>\n",
       "    </tr>\n",
       "    <tr>\n",
       "      <th>10</th>\n",
       "      <td>total</td>\n",
       "      <td>1593783</td>\n",
       "      <td>60.192385</td>\n",
       "      <td>48.868196</td>\n",
       "      <td>41.173046</td>\n",
       "      <td>48.777908</td>\n",
       "    </tr>\n",
       "  </tbody>\n",
       "</table>\n",
       "</div>"
      ],
      "text/plain": [
       "     year      bso  downloaded     grobid   datastet   softcite\n",
       "0    2013   143095   60.039834  46.486600  40.215242  46.388763\n",
       "1    2014   146834   60.073280  45.619543  39.835460  45.517387\n",
       "2    2015   146874   61.050969  49.440337  41.914158  49.369528\n",
       "3    2016   157978   61.978883  50.467787  42.591373  50.367773\n",
       "4    2017   160574   64.299326  51.889472  44.212014  51.831554\n",
       "5    2018   166721   65.414075  52.130805  44.834184  52.018042\n",
       "6    2019   168433   66.318952  58.509912  45.741036  58.370391\n",
       "7    2020   175445   68.194591  60.113996  47.085981  60.001710\n",
       "8    2021   160261   64.402444  52.166154  44.320827  52.075053\n",
       "9    2022   161378   31.236600  21.630582  21.480003  21.613231\n",
       "10  total  1593783   60.192385  48.868196  41.173046  48.777908"
      ]
     },
     "execution_count": 67,
     "metadata": {},
     "output_type": "execute_result"
    }
   ],
   "source": [
    "df_percent = df.copy()\n",
    "for column in [\"downloaded\", \"grobid\", \"datastet\", \"softcite\"]:\n",
    "    df_percent[column] = df_percent[column] / df_percent[\"bso\"] * 100\n",
    "df_percent"
   ]
  }
 ],
 "metadata": {
  "kernelspec": {
   "display_name": "Python 3 (ipykernel)",
   "language": "python",
   "name": "python3"
  },
  "language_info": {
   "codemirror_mode": {
    "name": "ipython",
    "version": 3
   },
   "file_extension": ".py",
   "mimetype": "text/x-python",
   "name": "python",
   "nbconvert_exporter": "python",
   "pygments_lexer": "ipython3",
   "version": "3.10.6"
  }
 },
 "nbformat": 4,
 "nbformat_minor": 2
}
