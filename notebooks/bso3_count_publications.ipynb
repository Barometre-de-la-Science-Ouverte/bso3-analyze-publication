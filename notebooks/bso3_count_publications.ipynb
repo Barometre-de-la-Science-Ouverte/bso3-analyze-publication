{
 "cells": [
  {
   "cell_type": "code",
   "execution_count": 11,
   "metadata": {},
   "outputs": [],
   "source": [
    "import copy\n",
    "from elasticsearch import Elasticsearch\n",
    "\n",
    "ES_HOST = \"https://cluster.elasticsearch.dataesr.ovh/\"\n",
    "ES_INDEX = \"bso-publications-20230403\"\n",
    "ES_PASSWORD = \"vn84q9Xef9U7pmU\"\n",
    "ES_USER = \"BSO\"\n",
    "\n",
    "es = Elasticsearch(ES_HOST, http_auth=(ES_USER, ES_PASSWORD))"
   ]
  },
  {
   "attachments": {},
   "cell_type": "markdown",
   "metadata": {},
   "source": [
    "### All publications in ES\n",
    "With foreign publications, publications from HAL ..."
   ]
  },
  {
   "cell_type": "code",
   "execution_count": 12,
   "metadata": {},
   "outputs": [
    {
     "name": "stderr",
     "output_type": "stream",
     "text": [
      "/tmp/ipykernel_99371/1825937803.py:1: ElasticsearchWarning: The client is unable to verify that the server is Elasticsearch due security privileges on the server side\n",
      "  count_es = es.count(index=ES_INDEX).get(\"count\")\n"
     ]
    },
    {
     "data": {
      "text/plain": [
       "2961498"
      ]
     },
     "execution_count": 12,
     "metadata": {},
     "output_type": "execute_result"
    }
   ],
   "source": [
    "count_es = es.count(index=ES_INDEX).get(\"count\")\n",
    "count_es"
   ]
  },
  {
   "attachments": {},
   "cell_type": "markdown",
   "metadata": {},
   "source": [
    "### Publications in the Monitor\n",
    "Publications from France, with a DOI from crossref and of type \"journal-article\", \"proceedings\", \"book-chapter\", \"book\" or \"preprint\""
   ]
  },
  {
   "cell_type": "code",
   "execution_count": 13,
   "metadata": {},
   "outputs": [
    {
     "data": {
      "text/plain": [
       "1593783"
      ]
     },
     "execution_count": 13,
     "metadata": {},
     "output_type": "execute_result"
    }
   ],
   "source": [
    "body = {\n",
    "\t\"query\": {\n",
    "\t\t\"bool\": {\n",
    "\t\t\t\"must\": [\n",
    "\t\t\t\t{\n",
    "\t\t\t\t\t\"term\": {\n",
    "\t\t\t\t\t\t\"bso_country.keyword\": \"fr\"\n",
    "\t\t\t\t\t}\n",
    "\t\t\t\t},\n",
    "\t\t\t\t{\n",
    "\t\t\t\t\t\"terms\": {\n",
    "\t\t\t\t\t\t\"id_type.keyword\": [\n",
    "\t\t\t\t\t\t\t\"doi\"\n",
    "\t\t\t\t\t\t]\n",
    "\t\t\t\t\t}\n",
    "\t\t\t\t},\n",
    "\t\t\t\t{\n",
    "\t\t\t\t\t\"terms\": {\n",
    "\t\t\t\t\t\t\"genre.keyword\": [\n",
    "\t\t\t\t\t\t\t\"journal-article\",\n",
    "\t\t\t\t\t\t\t\"proceedings\",\n",
    "\t\t\t\t\t\t\t\"book-chapter\",\n",
    "\t\t\t\t\t\t\t\"book\",\n",
    "\t\t\t\t\t\t\t\"preprint\"\n",
    "\t\t\t\t\t\t]\n",
    "\t\t\t\t\t}\n",
    "\t\t\t\t}\n",
    "\t\t\t]\n",
    "\t\t}\n",
    "\t}\n",
    "}\n",
    "\n",
    "count_bso = es.count(index=ES_INDEX, body=body).get(\"count\")\n",
    "count_bso"
   ]
  },
  {
   "attachments": {},
   "cell_type": "markdown",
   "metadata": {},
   "source": [
    "### Publications from the Monitor and analyzed by Datastet"
   ]
  },
  {
   "cell_type": "code",
   "execution_count": 14,
   "metadata": {},
   "outputs": [
    {
     "data": {
      "text/plain": [
       "656207"
      ]
     },
     "execution_count": 14,
     "metadata": {},
     "output_type": "execute_result"
    }
   ],
   "source": [
    "body_copy = copy.deepcopy(body)\n",
    "body_copy.get(\"query\").get(\"bool\").get(\"must\").append({ \"exists\": { \"field\": \"datastet_details\" } })\n",
    "count_bso_datastet = es.count(index=ES_INDEX, body=body_copy).get(\"count\")\n",
    "count_bso_datastet"
   ]
  },
  {
   "attachments": {},
   "cell_type": "markdown",
   "metadata": {},
   "source": [
    "### Publications from the Monitor and analyzed by Softcite"
   ]
  },
  {
   "cell_type": "code",
   "execution_count": 15,
   "metadata": {},
   "outputs": [
    {
     "data": {
      "text/plain": [
       "657693"
      ]
     },
     "execution_count": 15,
     "metadata": {},
     "output_type": "execute_result"
    }
   ],
   "source": [
    "body_copy = copy.deepcopy(body)\n",
    "body_copy.get(\"query\").get(\"bool\").get(\"must\").append({ \"exists\": { \"field\": \"softcite_details\" } })\n",
    "count_bso_datastet = es.count(index=ES_INDEX, body=body_copy).get(\"count\")\n",
    "count_bso_datastet"
   ]
  },
  {
   "attachments": {},
   "cell_type": "markdown",
   "metadata": {},
   "source": [
    "### Publications from the Monitor and analyzed by DataStet AND Softcite"
   ]
  },
  {
   "cell_type": "code",
   "execution_count": 16,
   "metadata": {},
   "outputs": [
    {
     "data": {
      "text/plain": [
       "655280"
      ]
     },
     "execution_count": 16,
     "metadata": {},
     "output_type": "execute_result"
    }
   ],
   "source": [
    "body_copy = copy.deepcopy(body)\n",
    "body_copy.get(\"query\").get(\"bool\").get(\"must\").append({ \"exists\": { \"field\": \"datastet_details\" } })\n",
    "body_copy.get(\"query\").get(\"bool\").get(\"must\").append({ \"exists\": { \"field\": \"softcite_details\" } })\n",
    "count_bso_datastet_softcite = es.count(index=ES_INDEX, body=body_copy).get(\"count\")\n",
    "count_bso_datastet_softcite"
   ]
  },
  {
   "attachments": {},
   "cell_type": "markdown",
   "metadata": {},
   "source": [
    "### Publications in ES and analyzed by DataStet"
   ]
  },
  {
   "cell_type": "code",
   "execution_count": 17,
   "metadata": {},
   "outputs": [
    {
     "data": {
      "text/plain": [
       "710633"
      ]
     },
     "execution_count": 17,
     "metadata": {},
     "output_type": "execute_result"
    }
   ],
   "source": [
    "body2 = {\n",
    "\t\"query\": {\n",
    "\t\t\"bool\": {\n",
    "\t\t\t\"must\": [\n",
    "\t\t\t]\n",
    "\t\t}\n",
    "\t}\n",
    "}\n",
    "\n",
    "body_copy = copy.deepcopy(body2)\n",
    "body_copy.get(\"query\").get(\"bool\").get(\"must\").append({ \"exists\": { \"field\": \"datastet_details\" } })\n",
    "count_es_datastet = es.count(index=ES_INDEX, body=body_copy).get(\"count\")\n",
    "count_es_datastet"
   ]
  },
  {
   "attachments": {},
   "cell_type": "markdown",
   "metadata": {},
   "source": [
    "### Publications in ES and analyzed by Softcite"
   ]
  },
  {
   "cell_type": "code",
   "execution_count": 18,
   "metadata": {},
   "outputs": [
    {
     "data": {
      "text/plain": [
       "712289"
      ]
     },
     "execution_count": 18,
     "metadata": {},
     "output_type": "execute_result"
    }
   ],
   "source": [
    "body_copy = copy.deepcopy(body2)\n",
    "body_copy.get(\"query\").get(\"bool\").get(\"must\").append({ \"exists\": { \"field\": \"softcite_details\" } })\n",
    "count_es_datastet = es.count(index=ES_INDEX, body=body_copy).get(\"count\")\n",
    "count_es_datastet"
   ]
  },
  {
   "attachments": {},
   "cell_type": "markdown",
   "metadata": {},
   "source": [
    "### Publications in ES and analyzed by DataStet AND Softcite"
   ]
  },
  {
   "cell_type": "code",
   "execution_count": 19,
   "metadata": {},
   "outputs": [
    {
     "data": {
      "text/plain": [
       "709620"
      ]
     },
     "execution_count": 19,
     "metadata": {},
     "output_type": "execute_result"
    }
   ],
   "source": [
    "body_copy = copy.deepcopy(body2)\n",
    "body_copy.get(\"query\").get(\"bool\").get(\"must\").append({ \"exists\": { \"field\": \"datastet_details\" } })\n",
    "body_copy.get(\"query\").get(\"bool\").get(\"must\").append({ \"exists\": { \"field\": \"softcite_details\" } })\n",
    "count_es_datastet = es.count(index=ES_INDEX, body=body_copy).get(\"count\")\n",
    "count_es_datastet"
   ]
  }
 ],
 "metadata": {
  "kernelspec": {
   "display_name": "Python 3",
   "language": "python",
   "name": "python3"
  },
  "language_info": {
   "codemirror_mode": {
    "name": "ipython",
    "version": 3
   },
   "file_extension": ".py",
   "mimetype": "text/x-python",
   "name": "python",
   "nbconvert_exporter": "python",
   "pygments_lexer": "ipython3",
   "version": "3.10.6"
  },
  "orig_nbformat": 4
 },
 "nbformat": 4,
 "nbformat_minor": 2
}
